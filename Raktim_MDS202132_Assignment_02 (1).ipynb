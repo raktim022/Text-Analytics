{
  "cells": [
    {
      "cell_type": "markdown",
      "metadata": {
        "id": "zdYEuwwbrZcE"
      },
      "source": [
        "<b>Raktim Dey</b>"
      ]
    },
    {
      "cell_type": "code",
      "execution_count": null,
      "metadata": {
        "colab": {
          "base_uri": "https://localhost:8080/"
        },
        "id": "MpTzkjQo8QRX",
        "outputId": "917cc6d4-f034-4362-9b03-8a5b7cd1d39c"
      },
      "outputs": [
        {
          "output_type": "stream",
          "name": "stdout",
          "text": [
            "Mounted at /content/drive\n"
          ]
        }
      ],
      "source": [
        "from google.colab import drive\n",
        "drive.mount('/content/drive',force_remount=True)"
      ]
    },
    {
      "cell_type": "code",
      "execution_count": null,
      "metadata": {
        "id": "El0AKWa08dgL"
      },
      "outputs": [],
      "source": [
        "FILE_PATH='/content/drive/MyDrive/Cell_Phones_and_Accessories_5.json.gz'"
      ]
    },
    {
      "cell_type": "code",
      "execution_count": null,
      "metadata": {
        "id": "eULLMuvJ8xEC"
      },
      "outputs": [],
      "source": [
        "import gzip\n",
        "import json\n",
        "import re"
      ]
    },
    {
      "cell_type": "code",
      "execution_count": null,
      "metadata": {
        "id": "eDJyUelYfAIf"
      },
      "outputs": [],
      "source": [
        "import spacy\n",
        "nlp=spacy.load(\"en_core_web_sm\")\n",
        "nlp.max_length = 309380828"
      ]
    },
    {
      "cell_type": "code",
      "execution_count": null,
      "metadata": {
        "id": "WXDyjSoO2Ec5"
      },
      "outputs": [],
      "source": [
        "#with open(FILE_PATH,'r') as f:\n",
        "#  corpus=f.read()\n",
        "#f.close()"
      ]
    },
    {
      "cell_type": "code",
      "execution_count": null,
      "metadata": {
        "id": "oBD2HT-J2ac9"
      },
      "outputs": [],
      "source": [
        "#Function for performing text preprocessing\n",
        "#Preprocessing includes case folding, removing punctuations and lemmatization\n",
        "def preprocessing(text):\n",
        "  res=\"\"\n",
        "\n",
        "  #Converting corpus to lower case\n",
        "  text=text.lower()\n",
        "\n",
        "  #Removing multiple occurences of period with a single period\n",
        "  text=re.sub(\"\\.*\\.\",\" . \",text)\n",
        "\n",
        "  #Removing multiple occurences of exclamation with a single exclamation\n",
        "  text=re.sub(\"\\!*\\!\",\" ! \",text)\n",
        "\n",
        "  #Removing multiple occurences of question mark with a single question mark\n",
        "  text=re.sub(\"\\?*\\?\",\" ? \",text)\n",
        "\n",
        "  #Removing punctuations\n",
        "  text=re.sub(\"\\$|\\#|\\^|\\(|\\)\\-#@\\'\",\"\",text)\n",
        "\n",
        "  #Removing multiple occurences of space with a single space\n",
        "  text=re.sub(\"\\s*\\s\",\" \",text)\n",
        "\n",
        "\n",
        "  doc=nlp(text)\n",
        "  for token in doc:\n",
        "    if not token.is_punct:\n",
        "\n",
        "      #Lemmatizing the tokens\n",
        "      res+=token.lemma_+\" \"\n",
        "\n",
        "  return res\n"
      ]
    },
    {
      "cell_type": "code",
      "execution_count": null,
      "metadata": {
        "id": "RecICZQG5d2e"
      },
      "outputs": [],
      "source": [
        "def preprocessed_corpus(filepath):\n",
        "    data=[]\n",
        "    with gzip.open(filepath, 'r') as f:\n",
        "      for name in f:\n",
        "        try:\n",
        "          text=str(json.loads(name.decode())[\"reviewText\"])\n",
        "          data.append(preprocessing(text))\n",
        "        except KeyError:\n",
        "          pass\n",
        "    return data"
      ]
    },
    {
      "cell_type": "code",
      "execution_count": null,
      "metadata": {
        "id": "C-HRtUyS2LQI"
      },
      "outputs": [],
      "source": [
        "processed_corpus=preprocessed_corpus(FILE_PATH)"
      ]
    },
    {
      "cell_type": "code",
      "execution_count": null,
      "metadata": {
        "id": "76zj572BPS0W"
      },
      "outputs": [],
      "source": [
        "#with open(\"preprocessed_corpus.txt\",\"w\") as f:\n",
        "#  f.write(\" \".join(processed_corpus))\n",
        "#f.close()"
      ]
    },
    {
      "cell_type": "code",
      "execution_count": null,
      "metadata": {
        "id": "2kXZB-9c2LV4"
      },
      "outputs": [],
      "source": [
        "processed_corpus=\"\"\n",
        "with open(\"/content/drive/MyDrive/preprocessed_corpus.txt\",\"r\") as f:\n",
        "  processed_corpus=f.read()\n",
        "f.close()"
      ]
    },
    {
      "cell_type": "code",
      "source": [
        "processed_corpus[100000:200000]"
      ],
      "metadata": {
        "colab": {
          "base_uri": "https://localhost:8080/",
          "height": 122
        },
        "id": "lEa4bYYkxoGs",
        "outputId": "2e011bb4-8ff7-46a8-d8da-ba287b14ef1c"
      },
      "execution_count": null,
      "outputs": [
        {
          "output_type": "execute_result",
          "data": {
            "text/plain": [
              "' from someone who own and use just about every major blackberry model if you already own a standard usb 2 0 cable and you do n\\'t need an extra then you do not need this cable all a blackberry need for datum transfer be a standard usb 2 0 cable with a micro usb connector at one end there be nothing special about this cable and nothing justify the artificially inflated msrp list for it while this item be sell at a 90 off the msrp discount it be probably okay to purchase one for as long as after read the first paragraph you decide that you will need a usb 2 0 cable the item have 2 star take away for the exaggerated marketing claim professional grade custom cable and for the inflated msrp note please make sure that you buy cable with a micro usb connector because this be what your blackberry need  it be a standard microusb 2 0 cable heavy enough to charge the blackberry phone but it should work with any device with a microusb socket I buy it for a different phone and it work great ca n\\'t beat the price  I go to good buy and they want 15 for a new cable this purchase be totally worth it for anyone need a replacement cable  this be a great little charger the only complaint I have be that the wire be a little bit thin but I be sure it will last a long time if treat gently lol compare to what they rip you off with at the sprint store these be awesome deal  do nt recommend pro because it fit my phone and have another usb space for other phone or gadget con but only last 3 month and it fall apart  this charger do not work well on my phone at all it barely charge my phone after four hour of constant charging I think it be just my phone so I try my daughter \\'s phone its still a no go  this car charger work well and do what it be suppose to charge my phone I do love the nifty feature of have the cable not hang about all willy nilly the pull back work well and be n\\'t too fast sometimes when I find that my phone be n\\'t connect properly I push the button to make the cord tighten and it work well I do n\\'t always have the issue so it be not that big of a problem I think I get a lot of bang for my buck with this purchase  product be kind of difficult to understand how to use but it get the job do and I guess that be the most important part  this cable not recommend for this device that be what I get for an error message plus it be really short  work as advertise on both pc and mac for the lg vu it also work with my samsung eternity use as mass storage and for pc studio tk file explorer with no problem arrive as expect in new condition I would recommend purchase this over a higher price cable  I buy this so I could have a long cable to plug my phone it when I plug it in it just say connect charger over and over again I buy 2 and neither of they work do n\\'t waste your money  I \\'ll never understand how one review can say this item work exactly as it should and how the next complain about it not work for the exact same phone I just do n\\'t get it I decide to try it out despite the people that say it do n\\'t work and I be glad I do it be exactly what I expect and want I actually buy 2 of these so I could leave one in my car and one at work for only 4 and some change for the both this be a great buy for I and now I never have to worry about my incredible run out of battery  this be clearly not a htc cable as it have the blackberry logo on it and the bulk packaging label say blackberry but it be a oem micro usb cable none the less and work perfectly on any micro usb device I plug it into while I have n\\'t test it be speed against other cable I doubt it outperform any other oem cable but it work and that be all I ask for of it the cable be a bit thick and as a result be stiff but not unmanageably so it should also be note that the cable show in the picture be not of the actual product that be a mini usb cable and appear to be quite a bit long than the product this cable be 1 m long  I drive a company supply vehicle so alteration to the dash be out of the question as long as the cord be not interfere with gravity run under the bean bag this will hold up for all but the most extreme driving I do n\\'t drive like an old lady but I do n\\'t really take into consideration g force when I be on the road unless you drive like an hole this will probably stay put pretty well for the record I drive a 2004 ford freestar a real babe magnet let I tell you and live in a pretty hilly twisty suburb of philadelphia the only time this thing fall off the dash be when I run the wire to the power adapter underneath the bean bag  I have a gps v that I really like and this be one of the good add ons for it or any garmin gps the gps v come with the require mount bracket and other model do too but if not you need to make sure you get it along with this this friction mount be relatively small but stay well on all dashboard I \\'ve use it on it be pretty flat so it travel well in a suitcase or carry on bag it allow you to position the unit in the most appropriate spot in the vehicle and then use the clap attach to the gps adjust the angle of the display so it be optimal detaching and re attach the clamped unit with the friction mount could n\\'t be easy for such a small and inexpensive add on I could n\\'t ask for more  as long as there be product like this available to hold the portable gps unit I would never pay the price for a build in gps on a car as an accessory fit anywhere stay in place  I use it with a garmin streetpilot 7200 which be a fairly large even somewhat clunky gps with a large 7 inch screen the screen do vibrate just a bit when go down the road but nothing major I have it sit on the dash of an armada inside a slightly crevassed area just to the right of my steering wheel main console it sit perfectly so I can see it with my bi focal sunglass and still clearly see the road I have have no problem with it slide off or tipping it have a locking mechanism at the bottom which I can not slide over to lock the mount connection because the garmin gps be already wedge so tightly into the beanbag mount no big deal though doubt I would use it anyway I do n\\'t see the need since it fit so securely without it it be a well make beanbag mount that I think will last a while and I get it for a great price here on amazon  work great easy to attach the gps and easy to memove it stay in place when set down on the dash highly recommend  I purchase a nuvi for our delivery truck the include suction cup soon become useless after a few month from constant changing of vehicle thank to a purchase suggestion from amazon I discover the friction mount it be perfect if the nuvi must be use frequently in several vehicle or simply remove from a vehicle often to prevent theft  d a wolfe below be absolutely incorrect this thing do not shift at all I have no idea what he mean by he have to baby it around corner this be a great mount and keep the unit from slide in all situation I do off roade and it still do n\\'t move I have a nuvi 360 and use it in a tacoma it truly rock and be easy to remove and keep in my console with gps still attach when not in use  the stand work great if you buy the other stand and use they together make be it pretty expensive but it work  this mount work great and be a lifesaver if you do n\\'t want a permanent mount but live in a state where windshield mount be illegal if you travel a lot it be bulky and heavy however a suction mount be a well alternative for heavy traveler  this belt clip be exactly what I need to replace the broken one for my golflogix gps it work like a charm  good adhesion between the disc portion my mp3 player my only complaint I wish that there be a ratchet mechanism I have an old cell phone with this exact kind of clip but that one would stay in a give position when you rotate it due to a ratchet mechanism  good  it be super handy to have my phone right on my side and the mechanism for keep it on and easily take it off be superb the sticky pad do n\\'t hold it on very tight a slight bump and it fall off nothing a little super glue ca n\\'t fix though  the adhesive break fairly quickly  I have a personal fan that come with a lanyard and want something that I could be able to clip it on my waist this do the trick   adhesive not very strong on a big cell phone  they break -super- easily but they work otherwise  break after 1 week very cheap material  wok great the last one I have last for year I expect that this one will too fast delivery fast accurate  it break in less than a week  item work as describe and love how the clasp be strong and also not make of plastic where it bend  love it  should note the small ring be what go inside the groove to clip in  perfect  exactly as describe on time just the right thing  buy this to create my own removable case by attach it to a smart phone case without a belt clip work perfectly buy more to have extra in case the clip break or be misplace the nub hold well with the provide adhesive strip and will detach from device or its case if put under great stress which be good since the entire case will not become useless if the nub become detached  a nice clip very useful for a lot of thing  not a good product this be cheaply make and way to bulky I buy this for my bluetooth headset case and I regret it just crappy plastic it also have no click control for the turning on your belt so it constantly turn and rotate on it be own I hope this help  it be nice but it end up break on I the little nub that the clip slide onto broke and it be non repairable it work well for about 2 month cheap price and maybe worth what I pay for but now I be just go to go with buy a case that come with it \\'s own belt clip  nice clip just what I want  I buy this item so I could keep up with my car stereo \\'s remote control it be simple and easy to use just peel the two sided tape attach to the back of the remote insert the remote into the clip and clip the whole thing on the visor just no well way to keep up with such a tiny item in my car highly recommend  I be use the freespeak for non bluetooth phone with my new t68i and I love it the bluetooth multi adapter for my old non bluetooth phone work great but the phone do n\\'t support headset initiate call answer voice dialing or call end a pain if you be go to be use any headset so I get the t68i and I be finally enjoy true cordless freedom as a note I do notice that my range with the t68i be far less than with the jabra multi adapter with the adapter I get a good 30 foot of range from the phone adapter to the headset with the t68i I be get maybe ten foot max apparently sonyericsson \\'s implementation of bluetooth be n\\'t up to par but you ca n\\'t fault the headset for that also I think the belt clip charger need some sort of positive lock to prevent lose the headset which with its light weight make little noise when it be drop and to secure its position while charge  for the price I guess you can say it be a ok deal since most of the other bluetooth headset cost an arm and a leg I pair it w/ a sony ericsson t68i and it be easy to set up the unit do not work very well though I have call many people many time in many different location and they all complain that I sound like a 60 \\'s robot and a broken one at that I would recommend that you try it out at a retail store before actually buy the unit I sort of figure it would n\\'t be that good because of the price but I want to try it anyway update it be be about 3 week now since I first try this headset out and I take back what I say about it I have use it almost on a daily basis when I be indoor and I would occasionally ask the people I be talk w/ on the phone how do I sound on the headset and they be quite surprised to hear I ask that because they tell I it do n\\'t even sound like I be use one so after my little indoor field test I highly recommend this to anyone who want to dive into the bluetooth technology pool please note that I have only use it indoor  first off the headset be only 20 if purchase with a sony ericsson t610 for that much this be a must buy the concept be wonderful and it work well for the most part I can speak wirelessly with my phone elsewhere the headset itself be comfortable especially the eargel it fit snugly and sound be clear two gripe however 1 battery life be less than impressive jabra claim 3 hr I have yet to get beyond 2 in fact last night when I use it I get a warning signal at exactly 1:51 2 bluetooth range be 30 foot only when in a clear path my bathroom be 15 foot away I get noticeable static on my end if I close the door everything become unintelligble the interesting thing be that the person on the other end do n\\'t seem to notice a thing all in all it be a great concept and work well aside from the two gripe list above I recommend it  it have a series of flaky behavior with the 3650 it be nominally compatible but in practice very difficult to make work the big problem be the phone wo n\\'t ring when the headset be in connect mode it will just vibrate if you keep in in disconnected mode it take 10 20 second to connect so well hope whoever be call you wait a long time after you pick up and there be no sound and it do n\\'t go to voicemail jabra tech support at first claim it be a feature that s the way all headset work yeah right his suggestion be a wear the headset all day long you can hear the ringing thru the headset b keep the phone in your pocket all the time so you feel the vibration then when push he claim they be work on fix it irk I that I buy this because it be list as compatible the other weakness be that the little eargel fall off very easily in your pocket or if it hit something so its a pain not to lose it otherwise it be comfortable and the sound quality be pretty decent on speaker and microphone look at other headset thank lon  I purchase this item recently to use with my nokia 3650 an amazing phone btw one would think that when amazon list the headset as be compatable with the 3650 it might actually work that be not the case at all I be afraid apparently you need to have the cute little blue sticker on the outside of the box for it to work to their credit jabra offer to cross ship the unit and amazon be go to send I a pre pay return label and will refund my purchase price and shipping all that be nice but I be pretty miff that I have to mess around with all of this  I have try a lot of headset and this be the most clear and loud the reception be perfect and the transmision too but there be the bad side the range be about 2 meter leave the phone over the table I contact jabra and they say that the version be old and I need to send they the headset to uk the ultimate release be the 51a I use it with the sony t68i and the configuration be too easy the comfort be the good I never use I use it all day long and the cell life be very good about 2 day at full use I recommend the headset but the late version  nice  good quality product worth the money good buy  very good and work well will do business again  guide  useful  ok  excellent item solve my problem  a sheet of paper include with the purchase and activation of a new phone include information on use your new phone with a section on troubleshooting issue and a list of contact if you be still have problem  ok  amazon com getting start guide for wireless service  as describe  no comment  excellent  I purchase this item a while back but I remember that it be great item I would definitely recommend it  I do n\\'t know who emerald city graphic be or why I be apparently purchase their product but I do n\\'t like it and never I never have  good customer service never any issue great about upgrade simple and easy to get and new phone mail and have simple instruction on how to setup your new phone  I be very pleased that buy it I be glad that the quality be excellent I like it thank you very much  I do n\\'t know what we can possibly review on it I feel like everyone else it just a piece of paper hooray  I do n\\'t remember have to use this once I buy my phone through amazon nothing really to say about it  this be a lovely purchase the gift go over very well the item be still be use love it thank you  not really I do n\\'t even know what this be but it be prevent I from review other thing so I be write a little review about it say that it be nice and I would like to have it over again for another visit  what can I say about this be anyone gon na read this if so I do n\\'t think I even read it be happy with service though  this getting start guide list information and instruction on what to do with my new phone to get it work the guide it be one piece of paper list instruction for new at&t customer exist at&t customer and there be also a section for troubleshooting I follow the instruction list under exist at&t customer and everything go smooth my new beautiful phone be up and run very quickly with no problem  yes when you get this paper insert go to your fireplace make sure your damper be open and then light a match to this baby and you will see the true value of this insert I give it 5 star for the pretty color that be create when it go up in smoke  I be just review this because its on the list= I be not even sure what it be three star sound fair  I do n\\'t understand why they want I to rate this insert but hey I guess it be good although it make it as far as the edge of the box then back in to the box all the way till the box be trash  this be one cool gadget stuff that cost extra on my previous phone datum cable and software be not need here I have an infrare port on my laptop my outlook address book transfer via infrare in second the software to do this be free from nokia \\'s web site and install in minute you can also do it with the bluetooth connection a bluetooth usb adaptor be under 40 buck what I think be really cool be that the phone be a modem for my laptop again via infrare or bluetooth a also use a bluetooth headset and again it be a snap to install my only complaint the darn ringer be way too quiet I \\'ve miss call with the phone only a few foot away or on the car seat next to I with the radio on and not that loud apart from the retro layout of the keypad and the huge for a cell phone screen the phone also have another strange feature no external antenna yet the reception be great  I buy two of these phone in june one for the wife one for I sign up for the family plan to save 10 per month share slightly less minute with family member rebate arrive in about 9 week as promise we send each other picture of the baby use t mobile \\'s t zone service very cool last night at the card brewer baseball game in downtown st louis I take a 15 second video of a scott rolen home run I then send the video to my wife \\'s phone and she be watch it mile away a minute later how fun be that I check my work email account and browse abc news espn news and cnn news at stoplight it even work way out in the country on a vacation trip in july lake of the ozark with my yahoo account I set up all kind of alert I get break news weather etc your phone will have an email address of its own so your friend and family anywhere can send you email the bluetooth capability be useful also I sync up my contact datum with my imac regularly the new version isync 1 5 even support calendar synchronization all wireless game I play doom star trek and a tank game lot of fun doom take some hacking to get to work on a 3650 though the keyboard be goofy but get a lot of look the only caveat be to be sure your employer allow camera phone before buy  this phone I purchase to replace moto t722i moto be good but battery be bad the first feeling of this phone be big big like good old 51xx the screen be big too and it have a superior plus it look really good under either light or dark though it have only 12bit color the screen be still clear under sunlight be a huge plus bt be new to I and it take about 45 min to figure out how to hook up initial setup include the phone and bt name and passcode once it be do I have to connect bt serial port to hook up once it be connect I can use the phone as a modem or run pc suite both tool can be find at nokiausa com the key layout be like good old dial phone which be circular luckily I get accustom quickly and feel not too much different from other just one thing to complain that the directional button be not assign as shortcut key like moto do there be only 2 shortcut key it be not enough camera be very very impressed though not like real digital camera the pic even live view be good and transferrable to pc through pc suite and look good on pc 640x480 be good enough for a phone realplayer can make the phone act like internet radio walkman but there be some complain 1 ca n\\'t disable speaker even though the earphone be plug in 2 the volume be weak through earphone 3 only support rtsp procotol no http no pnm screen saver show a clock which be really convenient tri band be another big plus just remember to unlock the phone before use it overseas and just ask t mobile they \\'ll provide the code for free conclusion if size do n\\'t matter for you this phone be a good choice with nice big screen good reception a little bit well than moto t722i which have good reception good camera function 100 wireless connection irda bt between pc you \\'ll not feel sorry the reason I give 4 star be realplayer problem too few shortcut and bt setup  my wife like my nokia 3650 so much that she switch chip with I and be carry it my favorite feature 1 speaker phone nice when drive or multitaske good audible range I slip it in my shirt pocket and speak into the air work great 2 display be very good for its size the camera take 640 x 480 color image I buy a 32 meg card to increase storage I recently use the phone as my principle camera on vacation to the smokie work great 3 contact be a nice feature that can pull your chip \\'s phone number and store they just add email address and you can send the camera pic to any email via the multimedia option disadvantage the blue light round keyboard in low light it be hard to see this can be a problem when text message or add contact detail I be buy a 2nd phone which will be another nokia 3650  I will not belabor the technical aspect of this phone but I will sing higest praise to nokia for make it available in the u s now if american would avail themselves of the datum function of this phone and not just the voice at&t t mobile and cingular internet dl ul price would be cheap this be simply put the good phone on the market to date the camera be great that it shoot short video be amazing and couple it with the very comfortable jabra bluetooth headset and you have a true deal that even p t barnum himself would be envious of there be other phone with more vivid color or large screen etc but you get so much more phone than any other be capable of today in the we you ca n\\'t go wrong and it be free how can you beat it you ca n\\'t  this stylish uniquely so cell phone from nokia be large but surprisingly light and the color screen be one of the good I \\'ve see on a cell phone the circular dialing pad do take some time to get use to but likely not as hard as you \\'d think the ring tone be nice and loud enough for everybody and the build in camera be easy to use but t mobile rank as the bad mobile operator in the country the german own company have sporadic cellular coverage outside the new york metro area tend to overbill its customer and have a user unfriendly website while I wholeheartedly recommend the 3650 I advise you stay away from t mobile get at&t wireless instead  this phone be awsome I have n\\'t take so many picture until I buy this phone the round keyboard take time to get use to but once I have use it a few day it be old hat highly recommend this phone  do n\\'t buy it do n\\'t work  no wonder it be amazon \\'s choice for my new iphone x I buy several headphone adaptor from amazon and only this product work perfect with my earphone selfie I return other adaptor and buy this adaptor again  this be the original smartphone we shall pay homage  cool phone  this be my first phone since own an ericsson rx280l and I have get use to unlimited internet access and long battery life as necessary feature for a phone and service the nokia 3650 will browse the web and the battery be fairly long live on those count this be a perfectly acceptable upgrade however when you rate it on its own merit there be some point to consider one it use mmc flash for storage mmc be n\\'t exactly the most popular format secure digital sd would have be a far well choice and so comparable capacity cost more for mmc than sd flash what I find disappointing about the mmc choice be that offer mmc and sd be n\\'t very difficult in itself in fact lexar sell the trio which handle sony memory stick sd and mmc quite nicely and compactly minor point perhaps but consider your current flash memory investment before buy the phone I love the camera good snapshot neat little movie that pick up sound and even a sound recorder so the add utility of the phone be very attractive make the flash memory issue a little more than minor imagine own five sd card and realize none of they work in this phone the symbian os be a dog it be a slow dog that annoy I to no end the bootup time for this be comparable to window 3 1 really a pocketpc or palm device by comparison have no boot time well the palm os have no boot time pocketpc negligible for warm boot I be not a big fan of this os or its ability nav of setting utility etc be a little complex there be a handful of way to get at phone setting for example and there be probably a million little shortcut you can use and would probably not want to memorize programmable front button let you choose oft use app camera and bluetooth for example and it support one touch dialing well one key plus the green on go dial circle sim card support store number on your sim or the mmc card or the phone memory season traveler would likely store number on the sim onto bluetooth and synchronizing nokia \\'s pc suite be powerful if you can get it to work set up your pc to use a bluetooth stack be n\\'t trivial lookup jon \\'s definitive blueeooth guide for the good help also geekzone co nz when it do work it be wonderful pull off image upload wavs to use as ringtone save all setting for backup synchronize outlook contact and calendar to the phone superb utility if you get it to go all this lead I to a solid conclusion the treo 600 kick its butt palmos sd card support most mature synchronization utility available aside from the cool camera functionality this phone be not the good you can buy lead I to believe that the true future of mid- and high end phone as well as pda of the same class to be full convergence of the two and so with that in mind get this phone if it be free with a new contract then wait for smartphone price to drop fre  I buy this phone a few day ago and it be awesome out of the box it be pretty cool cool feature bluetooth mmc card 16 mb included- but upgradable large screen play any midi you can drop into it ir connectivity ton of software it run symbian os so there be lot of program game to install I have instal active desk a replacement desktop theme organizer and agilemessenger support msn yahoo aol icq and other im along with extended profile let you custimize when differnet profile come on or how long they last + more check the yahoo group for 3650- there be several of they with lot of good background game ringtone etc there be replacement web browser opera netfront screen saver ir remote software and even a gameboy emulator have n\\'t try this one yet hell there be even movie you can download and watch on the unit once you get a large mmc card negative feature bad battery life when usign bluetooth ir excessivly strange keypad layout you get use to it bluetooth learn curve slow boot up about 30 second I have this connect via bluetooth to my pc with a few headache set it up but I have be have problem connect to my tg50 clie need special driver from the internet so at this point I can check my e mail browse the web chat on msn or yahoo messenger hard to do with the keypad- predicive input help and go anywhere in the we that t moblie have coverage or most city and interstate that have gsm 1900mhz if you like gadget that you can tie into your computer palm car etc then this be the phone for you  this phone be worth every penny I have an old nokia phone so I decide to upgrade it be worth the money it play wav file as ringtone it convert it to 10x small than normal wave file great sound clear reception have lot of game I can play ne gameboy color emulation also I also love the key pad soo diff from regular phone the only complaint I have it the 4096 color on screen compare to most 65,000 color on screen phone but its great  the phone be fine however the rebate promise from t mobile and amazon have never appear I even send the rebate reciept confirmation and be still be tell they have never recieve my rebate form if you buy the phone base upon rebate do n\\'t bother if you want a good phone this be it just do n\\'t be suprise if you do n\\'t get your rebate read in the review many other never recieve theirs either update I do recieve my rebate but it take a long time but t mobile and amazon make good on the rebate offer and since purchase another phone off amazon and recieve the rebate in a timely manner  at first glance the phone seem to have almost everything that you want after a while you might realize that you get more than what you bargain for for instance you might notice that it be really cumbersome to use the round shaped keypad than you may notice that the 3650 like to turn it self off sometimes even when the key lock be active sometimes it just lock up and freeze other time it auto dial your friend it must be telepathic other than all of that the blue tooth software run like a charm oh and do I mention that even after you unplug the ear peace the phone still tell you that you be use your head set  keypad be no biggie you quickly get use to it and the layout be great as a thumboard for type message and such rf be great and there be lot of add on application for the symbian operating system make this phone a great little tool I do wish the phone be a bit small but it be not a major issue regard the rebate maybe folk be n\\'t read the direction right or something I get my rebate quite promptly  battery pack work fit perfectly and cable connector do n\\'t present any issue during install  great replacement battery once fully charge the phone work for two full day with regular call  I \\'ve have it for many month and it be be work great battery life be all I expect my old battery be die all the time  replace 3 battery for my cordless phone system after a full night charge I be back up and run great  these thing be just a confidence trick they do n\\'t do a thing they ca n\\'t do a thing if you believe these make your phone work well then you probably find the stripe down the side of car make they go fast too  perfect  waste of money do nothing to improve signal do n\\'t fall for this scam like I do  do n\\'t work for I at all on my iphone 5  great  nice  good  you think that a little piece of shiny plastic will increase your cell phone signal well how about you glue a mineral rock onto the back of your phone or maybe wrap it in foil seriously you think that if a 1c solution to the cell signal problem be available would n\\'t your cell carrier give it to you for free as much as you want it to work I have bad news for you it wo n\\'t if you have signal issue you need to spend real money for a reputable booster like wilson or zboost or uniden all available at amazon so do n\\'t get it because if you do you will feel really stupid that you fall for it  good the cell coverage have get well as far as talk but the data service still be not work correctly and my mms do not work right either this be a carrier thing not a phone thing though  excelente  waste of money and time  I fall for this one when they first come out all I think it dose be help push the battery away from the antenna and I think the copper in it be to help block unwanted radio wave interference I get maybe half a bar but when ther be no signal ther be no signal al in short its a flashy sticker  so far it have not help my signal strength at all I still have no signal  work great  think it could be well  do n\\'t work for I  suck do n\\'t seem to work  seem to be ok  no good  piece of crap do not do anything at all I be in a low cell phone area and get 1 bar- this do n\\'t even raise it 1 bar don\\'t waste you money  ok this serve what purpose for the cellphone I mean really there should be some research on this how be it able to get patent  do n\\'t notice a difference  it do help if you get it in just the right place  ca n\\'t really comment on this because the item be lose because it come in a damage plastic container and it be n\\'t secure to the plastic and fall out during transport  nothing do n\\'t bay this  have no effect  I do n\\'t think these actually increase reception but when I use one most of my smartphone will work in building with metal roof that come in very handy when I be work on a project and ca n\\'t break away from the garage often  do not get this if you have an iphone I have a iphone put this on it and do nothing this be not compatible with iphone do not get be for your iphone  the antenna for the gs3 accord to schematic be at the very low part of the phone therefore place the booster behind the battery do nothing I \\'ve also try place it at the bottom of the phone on the removable back with some two sided tape with and the signal be even bad oh well  I would like to say that this be not cheap junk but it do nothing at all for my cell reception on the other hand I have an iphone with at&t so it could be that combination do n\\'t work with it it appear it work for a few people with a different phone so I be go to be generous and give it 2 star take into account it could have be my unit  have try several phone with these non respond to a signal difference with they would not buy again worthless waste of money for I  do n\\'t work it do not work at all I have a dead spot when I drive to work where I totally lose the signal this device do not help at all do not waste your money on it even for less than 2 00 its not worth anything  pretty much useless I do n\\'t really notice any difference in the reception waste of money even though it be cheap  order this product just to find out if it do work and sure enough I be surprise that I get more bar reception in my cell than I have before and the price be right  we see very little improvement if any it be easy to install but maybe help a slight bit oh well  I purchase the cellular innovation because I have use they for about six year with my other track and boost mobile phone and receive great reception when I would remove the booster from my phone my call would not go through as well when I would be in building basement under bridge or other poor reception area I rarely have call drop and the reception be smooth and clear I can get a call through when other people have to look for a clear signal I notice that with my new boost mobile android phone without it the reception be good but with it the service be great I have purchase several for family and friend over the year and they enjoy the clear reception too it be important that you handle the antenna with care put the booster in your phone with clean hand and must be careful in place it in the correct location as instruct to get the good reception it work well if you do n\\'t touch the antenna with your finger hold it by the side or edge smooth it with a smooth flat card I use my small library tag if you put the antenna into your phone incorrectly it will not work I like to keep one on hand for a back up to make change after about six or seven month of use it also make a nice gift to put into card for that extra special touch the booster be a must have for less expensive phone and a big help for my android phone I get the good of both world low phone fee and great reception with the cellular innovation antenna thank  do n\\'t do anything for my signal didn\\'t think it would save yourself the hassle of wait for something that do not work  not satisfied with the quality of the product I purchase do n\\'t see any difference in reception of the antennae on my cell phone  it be one of those thing you know in your heart be n\\'t go to work however before I invest in a 100 + to boost the cell signal in my office I be willing to invest the buck and a half just to prove to myself that these thing do n\\'t work well turn out everything you read be true they do n\\'t do a darn thing I have to admit the buck be almost worth it to read the horribly translate english direcion though make sure you do n\\'t leave gingerprint  do nt buy it it do absolutely nothing I know you be tempt to buy it to see if you have a well experience but do n\\'t do it  do not use this though if your phone be still under warranty cuz we cellular say it void my warranty but we cellular be the bad cell phone carrier out there I should not have even need this with a brand new samsung galaxy s3 but I do the instruction could have be a little well be my only complaint  I purchase this for my sister phone she continually have call drop so I get she this signal booster and it have n\\'t make a bit of difference I buy these before for my previous cell phone and they really seem to help but apparently not so much anymore  t h a n k s a l l g o o d i n p e r f e c t c o n d I t I o n  work on some phone other not a bit ca n\\'t believe these be even sell yet get they for all my family and friend not worth get in my honest opinion  I \\'ve always have one of these on my phone have to get a new phone while on vacation and the service at my rental be terrible slap one of these on and I do n\\'t know if it be the power of suggestion but my new phone work soooo much well love these thing recommend  this thing be a waste of paper it do n\\'t give u any well reception this be a total rip off in my book  we need a well signal and think at 2 99 for a 10 pack would be worth a shot well they say you get what you pay for and that be certainly true in this case expect nothing from this product and you wo n\\'t be disappoint really do n\\'t bother if you really need a boost for a signal I recommend check your other option do n\\'t waste your time or money  it give my cell phone a little more boost and work very good I will recommend this product to family and friend  I buy this since at work I go in and out of service constantly and I be hope for something like this to work it do nothing sadly I really want it to work also after read the 5 star review I google they and notice that those review word for word have be use in many place they sound real but sadly it be just market  the booster antenna do not work it actually make cell service worse rather than well do not buy this product it do n\\'t work at all  I have not drop a call in my bedroom since I get it so it do something it seem to have do what it say double my reception of barley anything to two barley anything new phone all ready have similar technology build in so the difference will be very minimal it work fantastic on 5 year old phone  I buy tis booster for my phone because I need well recepion I try it and it make my phone come in a little well I would buy be product again if fact I buy one for the whole family  I set my phone down on my computer desk for 10 minute and I check the signal strength on my droid x and it read -87 dbm after put the universal cell phone antenna booster on the inside of my batter cover I set my phone in the exact same spot for 10 minute and it read -83 dbm close the number to zero the well the reception so I guess it work a little bit check out the picture I post of the signal strength before and after  I rarely write product review but I feel like I should warn other about purchase and use this product I have have success use this antennae booster on my feature phone aka dumb phone give I an extra bar there be several occasion when I be able to make call with zero bar zero so after get my htc thunderbolt from verizon I think I \\'ll give this booster another try and see if it \\'ll enhance my reception instead it kill data reception I lose 4 g and even 3 g connection I should \\'ve know not to mess with the internal antennae of the phone once I peel off the booster my 4 g be fine again buyer user beware  come on amazon I ca n\\'t really believe you be sell this under your own name  want to try one they sell these at the dollar store it do nothing to improve your signal  these arrive in good time but do n\\'t seem to make much difference for my cell phone \\'s reception  very well no problem at all be good for activity like exercise fit ok I do n\\'t think be too long unless you be a girl with tiny wrist  use this from over a month now good watch band ever I buy  love this product fit well on my wrist and feel very secure I m use a woman \\'s moto 360 I think I \\'d mention it be a soft silicone band the initial picture make I think it would be a more rubbery feeling band but other than that no complaint  love the wrist band  very comfortable look good I \\'ve receive several compliment on this  as other have mention the band be a little long but not so much that it be a problem good for activity where I want to avoid get sweat on my leather band  return this thing be to small not even close crap I be excited about this band do not fit motor 360 2nd gen smart watch  excellent fit and feel  this a high quality band and it feel and look way well than the leather band that come with my moto 360 2nd the only issue I have be that the buckle stick out because it do n\\'t set down flat due to the stiffness of the rubber see attach picture  have to return it due to it be too huge the band be very very long and for some folk with small wrist even the last hole to snap the slack in be not enough  the band itself be quite attractive and feel great they clearly make an effort on package nice box rather elaborate for what be only a 2 piece band ok that be fine even though I \\'d prefer less wrapping effort and a low price I take it out an realize that it be really soft comfortable and far more preferable than the black leather band that come with my black watch I be impressed at how it look and feel well than the usual junk you \\'ll find here that be import a negative seem to be that the watch band be long really long it be long than the stock leather band but it turn out that the buckle be a bit on the side and the end strap can be bolt into place on the other side this leave you with the ability to rest your hand straight down without feel the buckle press in on the underside of your wrist turn into another pro for most people I have average sized men wrist pro the new system of open the pin latch and insert the band be awesome take I 2 minute to replace the band and do con this one be unfortunate look at the band the black watch can be classic look at the moto version with its own black metal band look very elegant surprisingly so the stock leather band also have completely black buckle and strap holder blend in without be obtrusive unfortunately tylt do n\\'t see fit to cover the very shiny silver buckle and end bolt the same black color as a result what look like a very sharp and somewhat sporty silicon band look more like the stock plastic band you \\'ll find on digital watch like casio timex etc and since the buckle be so high up do n\\'t expect to put a classy watch face on the top and have it be mistaken for anything else with the silver buckle present I hope they take this into consideration for what be an otherwise great watch band that I think justify a more premium price  if your look for a band alternative that be n\\'t metal then this be for you flow well with the moto 360 gen 2 I be a nurse and I wash my hand multiple time during a shift and so far it have hold together well  if you put your phone in it while the phone be on the heat from the device will create a little condensation inside guess that mean it be watertight and as advertise  I buy this and stick a large piece of velcro to the otter box and the other side of the velcro to a stand up paddleboard it do not hold a lot of stuff but you can fit a phone and some cash and credit card  perfect for what I want great seal no defect great product and a good price too not one bad thing to say about this do your research decide on a size and color and rest otterbox and pelican make good stuff  very durable water tight use this in my backpack to keep medical supply dry the clamp hold tight with a solid click when shut  great otterbox dry box I get the clear version as recommend by other review and like it after read the size demention between this 3000 and the 2000 I go with this one I want to keep my ipod 4 g with otterbox defender safe inside and eventually an iphone with either a defender or armor case so I compare the size and end up with this 1 first at least the clear version of this box be way big then u would expect it dwarf my little ipod in there but leave plenty of room for wallet anything else it be much to big for a pocket or anything like that but would easily fit in a backpack and comfortibly fit in your hand when u carry it in conclusion if u want the extra space get this 1 if not and you want just your phone other small item get the 2000 note will fit an iphone 3 4 5 with pretty much any case on it and still have plenty of room for wallet anything else  < div id=\"video block r1hg2hp0y185fc class=\"a section a space small a space top mini video block\"></div><input type=\"hidden name= value=\"https://image na ssl image amazon com image I e1mgksko0rs mp4 class=\"video url\"><input type=\"hidden name= value=\"https://image na ssl image amazon com image i/61ljo5kjfhs png class=\"video slate img url\">&nbsp;great little box perfect for cell phone mp3 player wallet and anything that you do n\\'t want to crush and/or get wet much tough then I expect otterbox have prove itself once again with a fantastic product pro tough as they get extremely waterproof yellow color be not neon yellow belt loop build in strong tie cord latch stay close tightly long piano hinge for strength contour shape for wear around the waist ad instruction label come off easily nicely pad inside for protection 100 coverage on internal pad come in other size to fit your need con may be a bit heavy for weight conscious backpacker no place for d ring to attach  I get this otterbox to hold my valuable at the pool this summer it be the perfect size for what I need and it be completely waterproof and crush proof I put some paper inside of it and hold it under water and it be dry as a bone then I have my 100 pound son stand on it and then I at nearly 200 pound and it do not crack  fit my phone and key no problem float and do n\\'t leak great for fishing or canoe trip a bit bulky but get the job do  I buy this for my son and this be what he have to say this be a great case and hold my phone waterproof on a whole cold weekend trip my whole pack get wet and this case keep my phone dry I would recommend this to anyone who need tough waterproof case  I need a few small case to store various item radio battery and such I find both these and the pelican micro case while pelican be the gold standard for the large case only the otterbox case have the quality I expect in this size the plastic seem to be more resistant to scratch and crack the bottom and top of the case actually seal together and the top and bottom be both pad to protect the content from shock whereas the pelican case only have rubber padding on the bottom half the hinge open to slightly over 180 degree but it be loose so where you can open the pelican lid half way and it will stay the lid on this case will fall to either full open or full closed the latch be a little tight than the pelican case especially to open which be a good thing the protrusion on the top and bottom do not stack the lanyard while it have n\\'t break yet seem like the first part that will fail all in all this seem to be a rugged storage and organizational tool  gnarly box enough room to put 2 galaxy s 2 phone a few card and some smoke in when go near water sort of wish I buy the deep one but this be cool for light application test it myself def be water proof and even float sweet deal  wow this be a great box for my iphone 4 I order it this past may know that w/ 3 kid all their friend my phone would need protection from the summer pool water sprinkler garden hose water balloon fight not to mention bathe the 3 dog well it pay for itself more than once when the kid or myself knock it accidentally into a pool I initially panic both time but my phone be bone dry and the case pop right back up to the surface bobbed till I could reach it very happy with this box highly recommend no reservation well make well price work excellently what more can one say fabulous if you have an iphone you need an otterbox defender case to protect against drop or crush and this waterproof otterbox both under 20 each on amazon small price to pay to protect one iphone investment would also recommend a capitative stylus particularly the one that secure into the earbud jack very handy  this phone be ugly and heavy and have a terrible user interface even for techie like myself it also drop call like crazy here in manhattan the moto v600 be a much well phone take well picture give you well clarity and reception be small and be much much cheap get the moto v600 if you want t mobile stay away from this ugly monster  I have the samsung v205 and then I decide to try the e715 out fyi to people with battery problem with these kind of battery you must let it drain completely and then charge it kind of like build up your battery life and do this a few time it will improve your battery life immensely I \\'ve be a t mobile customer for a while now and I stay with they because 1 they be now no 1 in customer service 2 great rate plan 3 it work great where I need it the most now the additional feature that the v205 do n\\'t have that this little gadget have be 1 caller i d pic although you wo n\\'t be able to see it on the external display when you flip it open you \\'ll see that person \\'s face 2 the camera now have a flash as well as a zoom and with that it be able to take picture in gray black and white negative sepia and sketch also you can do multi shot with this as well as put lot of different kind of frame to your picture 3)you can download game with the e715 whereas you can not do so with the v205 furthermore the game be actually java with e715 4 the flash can also serve as a flashlight which be quite useful sometimes when you do n\\'t know where you be walk and the light be pretty bright 5 voice memo nuf say otherwise it have the usual feature it have an alarm calculator calendar to do list mms sm you can download ringtone which be a big help since some of the ringtone sound pretty crappy as well as game and picture pretty much all the usual stuff be in this phone except you wo n\\'t find bluetooth on this another thing be that the external display be like a blue green thing against a black background which be pretty cool since you wo n\\'t have to press a button just to see the time it be always light up so you can see it well also the picture that you can take by lookin at the external display will be a bluish green color but when it be save and you look at it it be in full color so no worry there overall I have enjoy this phone and no problem with it really another great thing be that it do n\\'t have an annoying external antenna to get in the way so it be a good buy  this be the first samsung phone I have have and it do not quite measure up to the v300 I be a tmobile customer and when I finally become too feed up with the v300 \\'s terrible camera tmobile send I this as an upgrade here be the good feature about this phone 1)it have no external antenna to brake off 2)the camera take well picture than the v300 3)it be very small but still comfortable to use here be the bad thing about this phone 1)the sound quality of a call on the receiver be tinny and sound too digital much unlike the v300 which I do not realize how good it be until I receive this phone 2)it lack feature maybe I be spoil with the v300 but this phone do not have the technology other phone seem to have example- this phone do not have an easy to use datebook to set off alarm to remind you of appointments- it do not have a speakerphone which work well on the v300 and be very handy at times- and just simply it be like a commodore 64 computer in a world of 3ghz processor 3)lastly it simply be not as smart of a phone as the v300 in other word it be not as easy to use not as feature pack and not as practically design as it should be modern cell phone in my opinion do n\\'t need to be flashy and a work of art to look at but they should accomodate the user with easy to use and practical feature and sadly this phone just fall short if you be debate between this phone and the v300- the v300 be an upgrade from this phone in every way except for the camera    and I be from europe where the phone and network be much well than in the state I have to say that I think samsung currently have the good software and I use to be a huge nokia fan amazingly light very intuitive great audio and just look great I recommend this without any reservation whatsoever  this phone be amazingly small and light for a camera phone it even have a flashlight flash problem the phone have that I find to be a real problem 1 the battery life be the bad of any phone I \\'ve ever own it may last 2 to 3 day in stand by if I do n\\'t use it at all if I use the phone at all even just 10 minute no more than one day on a full charge 2 no voice activate dialing I like to use a speaker type hand free kit in the car so I do n\\'t have to look at the phone to answer talk or dial I think all phone should have it 3 it be not very user friendly the menu be not logical and be confusing 4 it have an ir but it do n\\'t sync with your computer you ca n\\'t transfer anything I do n\\'t get why they even have it they have software and cable you can purchase that will let you backup the phone number you enter and photo you take but 5 no syncing with outlook your pda or anything else 6 if you buy ring tone or wallpaper you ca n\\'t back those up I do love the phone for its size weight and even the color I find it easy to hold and talk with the sound be n\\'t the good but it be n\\'t bad either it ring nice and loud and put it on vibrate be easy I ca n\\'t put the phone in a standard cell phone holder for the car because the camera button be on the side and it be a long key the holder make the camera come on I have to get a small holder that only grab in one small area on each side I \\'ve have to purchase 3 additional battery and every kind of charger available because the average use of a battery be 15 hour regular phone use for I be about 10 minute a day use the t zone for a minute or two once a month in 6 month I \\'ve take a total of 9 photo and transfer datum twice the battery last 3 day once when I be home sick and do n\\'t use the phone and one 24 hour day I have to replace the battery three time as they completely discharge I be use to a battery last 5 to 8 day like this phone say it will last I also like t mobile their customer service be really good the feature they offer on their web site be great the price for wireless modem and wireless web be incredibility great and the national calling price plan be very good compare to what I ve see elsewhere I be with at&t since they buy out l a cellular the customer service be great for year but get so bad I d wait on hold for hour and couldn t get through to a person for day  the last year or so we have all see an explosion of nice color phone in the market most of their functionality be the similar while some have the extra bonus bell and whistle while really sell the product like many other I be attract to this phone because of the nice styling the size and the camera I have previously own a samsung s105 which be a nice phone as well so it be easy for I to learn this phone since many menu function be similar the first and foremost thing I look for in a phone be the sound quality the sound quality of the phone be not bad having own the nokia 6610 as well I would say the nokia phone sound a little well but this might be because I be use to the 6610 I be sure most people will be happy with the sound quality of the e715 the next thing be reception unlike the old samsung phone this phone use an internal antenna which work good if not well than phone with antenna the camera on this phone be quite nice there be a flash and a zoom feature which be add bonus the 640x480 picture take by this phone be ok to be view by cell phone small screen but if you view the picture on your computer you might be disappoint this phone do have a 40 chord midi capability which mean you can download some good song for the tech savvy there be a program call easy gprs which can be download from samsung \\'s european website this program will allow you sync up your phone with your pc the other program which I like be call psm play which allow you to edit midi file and convert they into mmf file one useful feature which this phone do not have be speaker phone generally I do n\\'t like to hold the phone next to my ear or use the ear piece the speaker phone on the nokia be great for this purpose another minor inconvinence with this phone be the phone \\'s irda capability with your pc as I have mention already you will need to download an application from samsung europe in order to transfer datum from your pc to your phone with some other phone such as the sony ericcson t610 you can simply transfer file through window \\'s default program when you match your phone \\'s infra red port with your laptop \\'s of course easygprs also have the ability to do many other thing but sometimes I wish that I can transfer simple image sounds directly use just window finally the battery on this phone run out a little fast than some other phone if you play around with this phone often the battery will run out in a day if you do n\\'t it will last 2 3 day currently this be not the good cell phone on the market but this be definitely one of the good tmobile gsm phone at the moment with rebate this phone will only cost 50 which be well worth the price of cancel your old account and start up a new one  I receive my treo 600 last friday from treocentral with service from sprint I have be test it and compare the sprint coverage against at&t t mobile verizon and nextel I have find that even when I have only 1 signal bar the call still go through while nextel \\'s coverage be as good they do n\\'t have a pdaphone that can compare to the treo 600 the only thing lack on the treo 600 be the ability to use grafitti which I have become very used to on my palm i705 I be cancel my at&t account as well as my palm net account no long need that since the treo 600 replace my palm i705 and go with the treo 600 for both wireless phone and palm pilot feature one device and a low monthly bill who could ask for more now if grafitti become available for this unit I will be in heaven  have it for a year my title for the review pretty much sum up what I feel about this phone hopefully the 650 improve upon those shortcoming I know 650 have bluetooth but do n\\'t seem to have wifi that make I want to go for a xda iii or I mate  I \\'ve be a blackberry user for the last 5 or 6 year I use the email every day in my consulting business it be prove to be a bulletproof email device what be sorely lack with the blackberry be a decent web browser yes I know there be some available and those with be or 7510 can use reqwireless the blackberry also have a major flaw in the lack of application write for the device it be primarily a one trick pony that do that trick exceptionally well by no mean be I give that device up I love it for email I try the treo because I be already a sprint user and want to evaluate the unit as a backup to my blackberry treo pro -sprint datum plan be unlimited and inexpensive include on plan over 100 -signficant third party application -relatively stable -highly customizable through the 3rd party application -doe not generally require an it department to configure to an exchange server treo con -battery not replaceable and the life be less than bb -no automatic push email you have to either manually retrieve poll at an interval with software like snapper or use a third party push like seven or sprint business connection -keyboard small tough to type than the bb -some user report the unit have be fragile prone to breakage I \\'ve be pleasantly surprised by my treo experience I initially hold back from evaluate this device because I \\'d hear it be unstable and crash often I have be evaluate this for three week under pretty heavy usage and have n\\'t have any reset beyond my intial day or two when I be first load in different program there be rumor to be another more advanced model come late 2004  I have have to replace our office treo in one case three time and twice in another as the speaker ear piece fail lack of voicedial and a tinny speakerphone be problem digital only service work fine in major metropolitan area but be problematical when one travel to more rural part of the we the camera be extraneous and be worthless even when adjust with software after market keyboard be great for email but the lack of graffiti be irritate for we original palm user trade mine for a samsung i500 and be much happy except for the lack of after market add ons or lack of stock samsung be tri band so this be great for additional use in other area where there be no pcs service samsung have voicedial and speed dial that exceed that of the treo and I like that well size of samsung i500 be much small and fit in my pocket easy as I an not a man with large pocket the fact that I can not play mp3 due to the limited memory of the samsung vs the treo be not an issue as I have an ipod rip mp3 and slow load make the treo not a great music player 16 mb of memory be more than sufficient for most I never fill the treo to the 32 mb capacity except I use the memory card for book suggest that if you do n\\'t need to carry a lot of datum go for the samsung as it be more reliable have two battery 7 hour vs my continually charge the treo from a short to moderate conversation both be about the same price so be cool and be one of the few who have a samsung 1500 vs the treo samsung and sanyos do have the good voice and sound for cell I have a pre pay unlocked sonyericcson 610 with t mobile and that be fine for overseas or a cute but hard to use joystick be for the bird phone ironically I get the sonyericcson as a trade for a free ms smartphone that always crash lock and never work right  that answer would be no however it be not a bad phone most people bring up the good first I will bring up the bad first I think it help you to decide fast and well the bad 1 palm os mean alot of stuff you need 3rd party software to run and those 3rd party software be very expensive 2 vga camera that only work outside in bright light with all this limitation why even have it if you want to buy camera phone this be not for you 3 no decent case to hold it look like the case that come with the phone be the good out there 4 if you be read this review you already know how expensive this sucker be 5 speaker suck it will stop work on you 6 mp3 player software be good but you have to buy a special adaptor so you can use that mp3 function the good 1 sprint \\'s business connection offer be very good you install software on your computer and leave the computer on when you need to retrieve something business email file application you can link up to the computer and download it 2 the screen be very bright easy to see and use 3 contact search be fast hit a letter and it will jump to the contact start with that letter 4 though the keypad be inconveniently small it be still usable I would not dial out of my phone with the keypad I would just bring up the dialing key on the touch screen 5 the speaker phone be very convenient  I just get this phone and it be really slick but there be one very significant design flaw in the treo 600 that will cost you a ton of money beware it seem if you be on a call and your call waiting go off there be no way to hang up on the first call and switch to the second you can only hang up on both call so what happen be if you tell one person you \\'ll get back with they and then flip over to the other call both call continue to rack up air time regardless of whether the other person have hang up this be a huge design flaw or maybe it be intentional so you wipe out all your minute whatever the case I ca n\\'t figure out how to deal with it except if you have call wait you should n\\'t answer it or you should answer both hang up on both then call who you want to talk to this be ridiculous beware  to be frank I have high expectation for the treo 600 after read so much about it in the time lead up to its release on actual use I have be quite disappointed still let I say up front that it deserve three star for be a usable pocketable smart phone my big gripe lie with the keyboard which be too small and too minimalistic it be very easy to press two key at the same time so whatever handspring say about this be the well design thumboard ever do n\\'t believe it the key have a round surface which hurt your finger after a typing a little while but the big problem again be the spacing of the key which be just too small and too close together also there be no dedicated number key which be extremely annoying to add more woe to this limitation you can not num lock the numeric key so you always have to hold down the number shift key to type in number someone clearly be n\\'t think straight when they put this together get this it be easy to type in accented letter which be n\\'t use in english than punctuation that be just plain silly the screen be also too small and the view angle be n\\'t too good which mean unless you look at it straight on you will have a hard time see what be on the screen compare to the silk smooth screen on the tungsten and clie this one feel crude and pixelate now if you plan to use the treo 600 for web surfing be prepared to be really disappointed the internet speed be just plain pathetic load amazon com \\'s home page take over 3 minute and it be barely readable because the layout be all screw up load msn \\'s home page take even long although the picture do come across nicely for some reason I \\'ve not be able to open apple \\'s homepage at all no error message just no page either msnbc work fine so do yahoo and sprint pcs \\'s own home page good thing there in short I be pretty disappointed with the implementation a new model the treo 610 be rumor to come out soon with a well screen and improve battery life but probably still the same slow internet speed which be more a problem with the 2 5 g network than the treo hardware per se anyway unless you have lot of money to throw away and do n\\'t feel like give it charity I recommend you wait for the next generation of treo  the treo be fantastic I \\'ve have mine for about ten day and could n\\'t be happy the call quality be as good if not well than verizon here in sf bay area with few drop call the speaker volume be also really loud the screen be amazingly bright much well than my sony nx70 although resolution be n\\'t hi res the quality be still surprisingly good for picture and video email and web access be very fast on the sprint network and the pda seem very stable with the rebate it be an awesome value now that I have all my contact accessible I keep in touch with people more get it  I have be very happy with my motorola phone until the battery start lose its charge within a day even when the phone be turn off the friendly but incompetent customer support keep I on the phone for an average of 40 minute for the repeat call try to figure out the problem after the phone have finally be send to their technical service center they return it to I that the phone be irreperable due to customer abuse I have do nothing to that phone that could have cause any damage unless use it to make phone call count as customer abuse but get the same comment without explanation after I have send the phone in for a second time for reevaluation it seem that motorola be just try to get out of fix or replace the phone free of charge under warranty you \\'ll be fine with a motorola phone as long as it work after that you be on your own  I do n\\'t own this phone I own the cheap motorola nextel i710 I have many friend who own this phone though although a few of they have since downgrade to the i710 the main reason I choose the i710 over this i730 be signal strength the i710 consistently get well signal the the i730 no matter which of my friend phone I compare it too all my friend be on the same wireless plan from nextel as I be so I know its not service it be definitely the phone I can have full bar on my phone 5 include the little antennae icon and my friend phone hold right next to mine will have 2 or 3 bar my phone get signal in place their phone be out of service now you might say that maybe my friend just have a dud phone well I have 4 friend who have the i730 5 friend with the i710 and one with the i860 all from nextel and the i710 \\'s always have well signal compare to the i730 \\'s the i860 get as good a signal as the i710 but its significantly more expensive too I be not sure why two phone base on the same hardware and software have such drastic difference in signal the only thing I can think of be some hardware add to give the i730 an external screen somehow interfere with the antennae hardware somehow other than signal strength compare to the cheap and basically identical except for external screen i710 the i730 be a pretty good phone lot of feature solid and durable construction and good battery life for I signal be more important that a silver case an an external screen but if you like those thing the i730 be a decent phone to use  great phone by motorola leap and bound over the previous user interface I use the speakerphone all the time along with the two way text messaging I also like the different profile which enable you to quickly switch profile for meeting I e vibe only believe it or not I do n\\'t even use the direct connect feature as no one I know really use that feature for personal use we just use text message most of the time more than anything I recommend buy the body glove cover clip search for body glove scuba i730 it be like a tuxedo for your i730  I have have 5 cell phone in the past 10 year start with the original motorola flip phone then I move over to a nokia phone which be okay but I be not satisfied I move over to the nextel phone service for my next phone which be the motorola i1000 and a couple of year later I buy the i90 which be the phone I have be use until I recently upgrade to the i730 I have be with nextel for the last 5 year and I be completely satisfied with their professionalism and outstanding service the trade in buy back program be wonderful and it definitely the good way to upgrade your phone now on to the i730 wow what an awesome phone I ca n\\'t begin to tell you that nextel offer the good motorola phone then any other carrier I have look at other phone from other carrier and none compare to the i730 if this be your 1st motorola phone purchase you be in for a real treat the instruction be well document and it do n\\'t take rocket science to navigate through the i730 software the big treat for I be the color screen the sleek ness of the phone and it be overall aesthetic beauty so if want to be the envy of all your friend please do yourself a favor and pick up this phone also once you experience the nextel service it will definitely be your last and only phone carrier proof I have successfully move over many friend and family member to nextel and I have n\\'t hear any compliant enjoy  I \\'ve have this phone for 3 month and nextel for 3 year I like the service but inability to roam can be bothersome when travel for emergency I remedie this with a tracfone com and just buy a 1 year card each year now for the phone it be get close to as sensitive reception as my old i1000 plus which have awesome reception the speakerphone on this model be excellent definitely an improvement over the other nextel model battery life be still on the fairly horrible end of thing charge it every night or you \\'ll run out in the middle of your workday on the 2nd day especially if you use datum feature a lot like I do luckily recharge time be very quick under 2 hour with mine with include rapid charger as a delivery driver in michigan I be out in all type of weather no problem yet with this phone but I would n\\'t suggest use in a downpour nextel do have model specifically for those type of condition the screen tend to be too dim to read in bright direct sunlight and the light sensor seem to add to the problem a non reflective coating would have be nice on the display very useful 600 entry contact list which can store all of a contact \\'s info home work cell fax email etc phone have a handy notepad and will take vocal note also calculator game etc be include on phone wish it have an alarm clock if it do I have n\\'t find it yet I \\'ll keep look for those long drive the little disco light be kind of funny too almost a disco party in your pocket interface be madden to get use to if only because it be similar enough to the i1000 + which I have for three year that it can get confusing as it be not the same color display be sharp all volume level can be set from whisper quiet to loud loud minor gripe waaay too easy to hit the direct connect button in its holster make sure you \\'ve switch one touch direct connect off if you be move around a lot and once you \\'ve finish use dc hit the stop button on top in the middle to get it back to phone mode or you \\'ll have to be apologize all the time for accidentally two waye somebody extremely handy be the profile which allow individual volume behavior and wallpaper setting for different situation I e truck work meeting movie or what have you all in all a very good phone especially with all the customization you be able to do with the feature setting addendum another minor gripe the stop button in the center top position of the phone be too easy to bump when remove the phone from its holster i\\'ve accidentally end several incoming call this way note instead of always buy a new car charger for your late great cell phone and adapter for your new laptop simply buy a power inverter which plug straight into your vehicle \\'s cigarette light make sure it have a build in surge protector voila vehicular power utilize your home charger cell or plug laptop the good plug directly into the cigarette light socket without a cord the unit can get hot a cord can allow the unit to move all over in the car can power many other thing too ca n\\'t find one label surge protector on amazon but bb sell they  other than the high initial cost I get it before they put in a promotion duh I really love this compact and stylish phone it be the good nextel have offer yet although there be rumor that a camera phone be come out soon if you can wait wait a bit long otherwise for walkie talkie style cellular nextel be the good no delay like with verizon up to 30 second or sprint 10 sec walkie talkie that actually work where there be coverage I be a happy customer  in chicago the gps never work and yes I go by the window dozen of time in the surround suburb it work once about 30 mile north of chicago so I know it be not break unfortunately telenav the company that sell the gps mapping service for nextel phone will charge you by the kilobyte which be very mysterious but come out to about twenty buck a month in addition to a total connect service that nextel will need to add for gps to function for another ten buck monthly the kicker be when you figure out that your gps hardly work at all and you have already sign up for a year \\'s telenav service telenav wo n\\'t refund you a single dime too bad for you it do n\\'t work in your area the nextel tech that I speak to in cancel total connect say telenav tell they that they should not gaurantee telenav to ever function there be not enough satelllite at this time what a bunch of fargin icehole otherwise it must be state that I do like nextel service and the web browser be the good of it be kind you \\'ll never call info with a people finder equivalent to white page and also a business finder movie time and all that other stuff as well and snocountry tell you the amount of snow at any hill in america that be nice  if you need to be geographically challenge and learn this be the one  use for a history class that my grand daughter be take the pin use to hold in ton the wall leave little hole  I travel a lot and decide it be finally time to start record where I have be I do n\\'t realize that map be insanely expensive I find this map read some good and bad review but decide to purchase it anyway no regret this map be exactly what I need it came roll up and in a box that be mean for ship map or large picture it come in perfect condition and it come on time it be the perfect size and its visually pleasing and it have the country state and city all lay out and print even the city that be not print you can get a rough estimate as to where they be because the map be actually accurate I be able to locate everywhere that I have be to and pin they all to my wall I be very pleased with this map hopefully they start make big one so I can make a big travel map for the family to put in the basement  be a great map very detailed and easy to read some of the country list have there name write in the language they speak for example in italy they put rome as roma so make sure you will be able to understand it also this product be well package compare to other map I love this product and would highly recommend it  I live about 100 mile from where this be ship just love it think it would be here fast than it be but ship in a tube so come damage free cool map and pretty funny letter that they send with it make I laugh highly recommend kinda nice u know do yourself a favor and check they out their more than just map  its more than I expect look nice I set this up in my home office and look great I recommend it  well just as picture I receive the entire world need it to do a project which work out well the paper it be on be a good thickness every country be include as far as I can tell what else be there to say it be a map  go what I ask for in a timely manner I order this and this be exactly what I get perfect  always good to keep up in the bedroom so you ca n\\'t get lose there be no fear where love exist rather perfect love banishe fear for fear involve punishment and the person who live in fear have not be perfect in love 1 john 4:18  buy this map for my office to mark the place I visit with pin I frame the map and use a foam backboard to hold the pin the frame and backboard be pretty inexpensive and do n\\'t take very long to assemble the only downside be that the name of the city be pretty small and depend what type of pin you use the pin may cover up the city I have no complaint glad I buy map  I love this poster its soo big it show not only the we but all the country even the pacific and atlantic ocean I be very pleased  I be pleasantly surpise with the quality of this map the price be 1 cent so I be a little skeptical but once I open it and roll it out I be quite happy  this thing have so many charge terminal on it its awesome a normal person will never need this much awesomeness  I should \\'ve realize how large this be but I never even glance at the dimension or pay attention to how large it would be know the size of the battery slot no power brick which be a huge plus power cable just plug straight into the unit I have a mixture of size and capacity and throw a bunch of they in it the first night some be condition and other just charge I pull about half of they off of it three or four hour later when the light turn green and the other be on it for over 13 hour still red when I go to work in the morning turn green sometime during the day while I be go lot of capacity to charge which be awesome since I be tired of have to pull out two or three 4 bay charger to charge up a batch of battery I have battery that be up to eight year old charge maybe 30 or 40 time so far and they be charge fine as well huge capacity and far more flexibility than my standard charger I like that the front of the unit even have a legend on it for what the light mean for color or code signify so you know what be happen without have to dig out the manual ir be pricey but consider what you get it be definitely worth it  I need to charge my aa be for my 3 canon speedlite flash before each wedding I use sanyo eneloop and also some old duracell rechargeable I be impressed how it could take old battery that would n\\'t recharge in other charger and it completely restore they to work order the 16 bay charger make it so easy to just dump all the battery in over night and be ready in the morning for work I highly recommend this to every professional photographer  I purchase this after break my lacrosse bc700 I realize after use a small charger that something with more charge capacity be go to be a huge benefit this ansmann be superior in all way to the lacrosse other than portability of course it hold more battery which be absolutely nice it have lead light which now that I \\'ve experience they I be sure I would find it annoying use another charger without they as you can quickly glance over to see if your battery be do rather then have to decipher some strange black and white hard to read code also this thing be build so ruggedly that I do n\\'t think I could break it if I try well at least not from a simple drop this time highly recommend  the ansmann charger simply take the guesswork out of charge the battery you simply plug it in stick the battery into it no matter what their current charge level be and it refresh it neatly and cleanly the only strike against this product be that the manuel be write in german but if you simply follow the color code on the front of the charger it will be enough good charger ever  mount the 60c on my motorcycle use this item work well seem very stable though I wrap the wrist band around the mirror for extra safety  it be what it be a necessary evil I \\'ve have these fail over time from plastic fatigue but they do work mostly the drawback be when they fail your gps go fly down the road bounce on the pavement dirt or whatever I start teathere it to the bike so at least if the mount fail it do n\\'t go fly to who know where  I return it do not fit the cycle computer I guess it be not correctly describe  do not fit my garmin 60 series gps receiver  I purchase this to use on my bicycle and with a garmin 60csx installation be simple and all part be include note that it do include two rubber strip of different thickness for different diameter handle bar the clamp also have a positive clamping motion as it be hinge which make it a bit more secure and easy to mount once the unit be clamp onto the handle bar there be no adjustment so you may need to readjust after you ride we do mainly ride on the street but have do 50 + mile with the gps and have have zero issue it be easy to come off and stay on just fine pro fit the gps perfect all part include with extra con the lug on the back of the gps be a pain when not in the mount  fit all of the handlebar size I have try it on hold the gps unit securely have not break yet  purchase two of these item specifically for mount my garmin 60csx on my bike handlebar I be quite happy to discover that the actual handlebar mount be identical to the one I be currently use for the garmin legend the only addition here be the cradle that snap into that mount so now I have the luxury of move either unit amongst several of my bike be they tour or off road the mount be easy to affix one screw open the clamshell design include rubber strip can be use as shim to get a proper fit I just wrap electrical tape around the bar until I have the appropriate diameter cradle snap in hold solidly until one press the release lever and force it back off the mount take a bit of effort no concern here about security snap the gps into the cradle be straight forward it will take you a couple iteration to get the motion down mine be hold in quite tightly I have no concern with it come loose I do take the preventive step of loop the lanyard around my bar might as well put it to some use versus flap in the breeze overall quite satisfied update 5/14/2012 purchase a third mount to outfit yet another ride the first two have hold up without issue and I \\'ve yet to have my gps pop loose  this mount work great I \\'ve ride over railroad track and other rough terrain and my garmin 60csx stay solidly in place I do have the lanyard pull over the handle bar just in case but the gps have never come loose when it snap in place it be hold tightly I do n\\'t understand why other be have to use rubber band or anything else I ride a lot and never a problem  I \\'ve have a few different garmin mount gps 5 60cxs and nuvi 660 and then discover the ram mount they be far superior in build quality and strength I have the ram mount in my car on my motorcycle and on my mountain bike and they never move ever they cost about twice what this mount cost but they be definitley worth the price check out gps city or equivalent for idea 10 extra be a small price to pay for a 350 unit not to fall off your windshied or bike  I have use this for over a year I do have to buy the large bracket for my road bike but the one that come with this fit on my touring bike I like how the mount just slide off the bracket so it be easy to switch between bike they be n\\'t that expensive I be never comfortable with my 500 now 300 60csx just sit in the cradle so I loop the wrist strap around the handlebar my touring bike have 2 inch tire 60psi so it handle the bump well my road bike of course have the thin tire pump up to 125psi and do not handle the bump well it be work fine until a couple of day ago I hit a bump on my road bike and as some else mention the little circle part crack so every bump home would knock the unit out however the wrist strap save it from hit the ground I call garmin support and they be send out a new one since I have it for over a year and their support be awesome I rate it 4 star since it break I could n\\'t give it 5  I purchase two of these handlebar mount unit one be use on my mountain bike and the other be use on my motorcycle this mount be easy to install and easy to use the gps 60csx and 60cx fit perfectly however I have a couple of concern 1 the unit be completely make of plastic while ride the unit be in full sun either mountain bike or motorcycle I do n\\'t know how long before the plastic start break down and fall apart 2 the mount do not allow for minor angle adjustment you have to find the right spot to mount it on your handlebar and hope it face you correctly otherwise the gps receiver screen may be difficult to read mine have a slight angle to the right but I can see the screen overall I be satisfied with this mount and would buy it again < a data hook=\"product link link class=\"a link normal href=\"/garmin handlebar mount unit for gps-60csx series-010 10454 00 dp b000196c2a ref = cm_cr_arp_d_rvw_txt ie = utf8\">garmin handlebar mount unit for gps 60csx series 010 10454 00)</a >    but after several thousand mile and almost as many pot hole my 60csx be still firmly attach to the handlebar of my harley I \\'ve be tie the wrist strap to the mirror just in case but it be be over the bad terrain colorado wyoming and south dakota have to offer without ever pop loose  I have be use this bracket to hold my 60cx to my handlebar and I have be extremely happy with the purchase I use my bike as my primary source of transportation and it have be easy to get around thank to the street map that I load onto the gps as other reviewer have note you definitely want to also tie the gps to your handlebar I use the wrist strap that come with the gps my bike fall over one day and the gps pop right out of the bracket and be leave dangle above the ground if it have not be tie it easily would have impact the ground  sorry to say that the product do n\\'t even charge from day one it plug in light up and when I come to check there be no power so connect to charger again and same thing after 5 time give up and return may be I just get a lemon I do n\\'t know but do n\\'t want to try again  very satisfied amazing and it seem to really work out those deep painful kink take long to come but splendid and worth the wait trust I its worthy every cent <3  I love my hot heart massager it be re usable and remain ready to use until you flex the internal metal button the solution inside then crystallize produce heat in the process the heart remain flexible even after the crystal have form make it suitable for hot massage  great product  however a seller say it be the same I do some analysis the formula be actually contain different mixture in scene not the same buyer be ware  I buy this case for a tungsten e2 when I hold the case upside down my palm slide out otherwise the case be very nice it have 3 slot for credit card 2 slot for memory card and a holder for your stylus you can sync recharge or attach headphone without remove the case  I buy this for a palm tungsten e2 perfect fit nice design can use all accessory ac power usb cable sd card stylus without have to take the e2 out of the case could n\\'t be happy  I return this item because it do n\\'t filt my palm z22 at all do not buy this for the z-22  I purchase this case as a package with the palm tx from amazon I wish I have read other review because as the other point out it do not fit the palm tx the top stick out I go to staple and buy the right case and be tell the one that fit the palm tx have to say compatible with tungsten t5 so I m not sure why amazon have a deal with the palm tx when it be n\\'t the right case another thing be it do n\\'t have a snap only a pull through strap which do n\\'t stay put too good  I buy this sticky pad in the spring april 2006 I believe and through no over use on my part it have now lose its stickiness and be very ineffective it be also peel off the dash it be only 3 month old so this make no sense to I I recommend get a different brand that might last long  these be not as sticky as the last one I order not a sticky rubber sheet  it be a sticky pad use to keep phone or whatever from slide all around the car  damn thing be too useful just get a bunch and stash they away you \\'ll use they eventually also they be big enough that you can cut they into small piece for example I cut a piece to stick to my smartphone so it would n\\'t slip so easily out of my shirt pocket work great  this would not stick on my dashboard regardless of what I try I throw it away  they work just as I think they would and just like the original one do the good one out there and I have purchase many of these thing and no other can top it  this do not work for I I buy it to keep my iphone in place in the flat central console of my minivan and my iphone still fly off occasionally when I turn I think it may be the material of the iphone case but this totally do n\\'t work for what I buy it for it do help my purse stay on the console however so I do n\\'t entirely hate it but it really do n\\'t do much for I  work very nice keep the phone in place  everything stick to the path but the path dos not stick anything  work wonderfully at hold my laptop in place so that be do n\\'t slide off of my little padded laptop table I be constantly readjust it and push it back into place as I do homework on my couch I \\'ve have it for about 6 month now and it still work as good as the 1st day and I have n\\'t even clean it once  great product perfect  place this on the dash of my ford f150 and it do stop my phone from slide around as other have state it be so sticky you may have to pry the phone off of it a hassle sometimes but at least the phone be secure wish it be about an inch and a half long so it would fit the depression in the dash  sticky but not overly I like the big size handstand be the good maker of these- this be replace 2 old one I have that be small  use in conjunction with a 15 cargo net to mount a gamecube on the center arm rest box thing in my 98 accord for this cause it work perfectly provide an apparently ridiculous amount of friction as the gamecube have no slide play in it at all size be also perfect it be less than an inch wide than a gamecube and whatever length long sufficient at any rate the only problem I have now be that I sometimes elbow the gamecube \\'s carry handle when I shift into second and because this product work so well it kinda hurt  I buy this item for my car it have alot of storage it be sticky it even hold my portable cd player yup I still have one  do n\\'t stick at all  good item just sticky enough to hold item without they move around on the dash of my car not soo sticky that the pad pick up everytime with the item you want to remove from the pad  work as advertise this be the good sticky pad I have have its easy to wipe off and the surface be smooth rather than the other that I have use that have groove and difficult to clean I like the quality of the sticky pad and the large size make it a place to place multiple item I love it work great  I like the large size  this work great in my vehicle to keep my phone handy  slide around on my dashboard  work great as describe  these be fantasic I cut they into strip to hold my laptop in place on an angled table top they do get dirty and need to be clean but they hold the laptop and phone that I put on they  this one be the good out of all the other sticky pad if you want the large one hold very good  clean easy and never loose stickyness good in all weather condition  big its a decent size more than decent work as expect hold my galaxy note in place just fine plenty of space for exta thing  and I find it to be a great product still sell my vehicle that I have it in and regretted not take it out but find it here and purchase it for myself and my boyfriend truck I love this large size for the truck dash  be actually for my spouse not what he be look for but as far as the item go it work  these pad be too light wieght for what I buy they for I can see why they have be discontinue  I use to have one of the small regular sized one age ago and really have no clue where it go after get a different car I have some of those lg tone+ 730 bluetooth headphone that I use daily but want somewhere in my car to put they when not wear they around my neck I think of this and be happy to see they now have this oversized version my headset fit perfectly on it and do n\\'t budge when I be try around you could easily fit 2 large screen smartphone or a tablet on one of these as well  I like the size of this pad I have it set up on my laptop that be in a docking station it hold my cell phone and mp3 player just fine and get stuff off my desk thank  never slip item on this pad and washable and clean well so nice I strong recommene this item so much  I do prefer the other xl sticky pad they make but this work as well just rinse off with water dry to make sticki  I buy a compact car with little storage for my cell phone sunglass and garage door opener so for the first time I see a need for a product like this enable I to use the dash for stow thing without have they slide away I find it to work well and it be reasonably price it can be easily trim with scissor to fit a storage compartment it appear that one side be sticki than the other thus some folk may have problem with it no mention of this in the direction  I buy a lot well stick on this be not that good I buy other stick on before and incan say that this be not as sticky as the ounce I use before  nice and big I use it to set a take out container of dinner on my dashboard when I have to eat on the job it be do the job just fine my food have n\\'t spill yet  great product hold item phone ipad on my dash and keep they from slide around dash area be flat so no experience how it would hold on a slanted surface also material be a bit thin than expect  this be a great price and be exacltly as describe the large size be a good fit for the middle console flip top storage of my truck  this pad be a foam rubber product with a fairly grippy surface it may be exactly what you be look for if you find the gel type pad too sticky do n\\'t expect it to hold your phone at a steep angle on your dash though  after buy a few of the cheap pad and be disappoint with they I buy this it be worth the money it go much long between have to wipe it down but yes like any of these pad you do have to wipe they down because eventually dust will cling to the surface and you wo n\\'t be stick your device to the pad you \\'ll be stick it to a layer of dust to wipe it down I use pre moistened glass wipe with alcohol after a quick wipe it be as sticky as day one also I buy this super size version and cut it down into small piece and have no problem do so now I have 3 pad for the price of 1 big one  handstand super size sticky pad black hold very well I \\'ve yet to have anything slip off it yet use this pad to I be like use super glue with a release when need  this work great for I it even hold a small thermometer at about a vertical 45 degree angle on dash so that I could read it it be very sticky on both side its so sticky that you have to careful about remove thing like my cell phone or it will pull off the dashboard and stick to itself require time to unstick it and replace the pad I do n\\'t think the edge will curl up as I have read on some other review  I have purchase more than a dozen sticky pad over the year and I like this one the good because it have a large surface area of almost 7 x 9 compare to the typical 4 x 6 size and this pad \\'s stickiness be just right where as other sticky pad you will have to use force peel your cellphone off the stick mat and the cellphone paint and then you need to re apply the phone \\'s screen protector touch up the cellphone \\'s lose paint I recommend this product and have buy a 2nd one  I be very pleased with this product it work as advertise and hold my iphone on my center console without slip at all it also stick to the center console very well I would highly recommend this product  ok  very bad service do not recommend at all  cingular 2 year contract  I purchase this item a while back but I remember that it be great item I would definitely recommend it  good customer service never any issue great about upgrade simple and easy to get and new phone mail and have simple instruction on how to setup your new phone  this be a lovely purchase the gift go over very well the item be still be use love it thank you  I still have at&t I do get drop call but of all company I guess this be the good never get verizon  yeah they could have waive the dang activation fee that be a waist it be just a way for they to get a little extra cash out of the customer for no reason I find this new 2 year contract stuff garbage as well I miss the day of 1 year contract and they give you all kind of stuff to make you happy now they just line their pocket and forget about the little thing about the customer grant I have find at&t to be well than sprint nextel so glad I be not with they anymore port my number have no problem port my number over from nextel the people that I have speak to on the phone with at&t so far have be quite nice and easy to understand for the m'"
            ],
            "application/vnd.google.colaboratory.intrinsic+json": {
              "type": "string"
            }
          },
          "metadata": {},
          "execution_count": 4
        }
      ]
    },
    {
      "cell_type": "code",
      "execution_count": null,
      "metadata": {
        "id": "Ghqy_1erNe18",
        "colab": {
          "base_uri": "https://localhost:8080/"
        },
        "outputId": "f20b9eec-83b5-4a97-82a2-3e88bb74d1d0"
      },
      "outputs": [
        {
          "output_type": "stream",
          "name": "stdout",
          "text": [
            "Vocabulary size is  152441\n",
            "Time taken = 47.89925126700001 seconds\n"
          ]
        }
      ],
      "source": [
        "import time\n",
        "import numpy as np\n",
        "t1=time.perf_counter()\n",
        "words=processed_corpus.split(\" \")\n",
        "\n",
        "\n",
        "#Removing blank spaces\n",
        "words=[i for i in words if i!='']\n",
        "\n",
        "\n",
        "#Sorting words to efficiently find frequencies\n",
        "words.sort()\n",
        "\n",
        "\n",
        "#Vocabulary for this corpus\n",
        "vocabulary=list(set(words))\n",
        "print(\"Vocabulary size is \",len(vocabulary))\n",
        "\n",
        "from collections import Counter\n",
        "freq_words=Counter(words)\n",
        "t2=time.perf_counter()\n",
        "\n",
        "print(f\"Time taken = {t2-t1} seconds\")"
      ]
    },
    {
      "cell_type": "code",
      "source": [
        "#Frequency of words in the corpus\n",
        "freq_words"
      ],
      "metadata": {
        "id": "2EItj1Xtnj55"
      },
      "execution_count": null,
      "outputs": []
    },
    {
      "cell_type": "code",
      "execution_count": null,
      "metadata": {
        "id": "4VK2BPYyZIpN"
      },
      "outputs": [],
      "source": [
        "rank=[]\n",
        "for i,j in freq_words.items():\n",
        "  rank.append([i,j])\n",
        "rank.sort(reverse=True,key=lambda f:f[1])\n",
        "for i in range(len(rank)):\n",
        "  rank[i]=[rank[i][0],i+1]"
      ]
    },
    {
      "cell_type": "code",
      "source": [
        "#Rank of tokens\n",
        "for i,j in rank[:100]:\n",
        "  print(f\"{j}: {i}\")"
      ],
      "metadata": {
        "colab": {
          "base_uri": "https://localhost:8080/"
        },
        "id": "u5tLsFoq5A_6",
        "outputId": "39801578-54e7-4141-dacd-f5b112379db3"
      },
      "execution_count": null,
      "outputs": [
        {
          "output_type": "stream",
          "name": "stdout",
          "text": [
            "1: the\n",
            "2: be\n",
            "3: I\n",
            "4: it\n",
            "5: and\n",
            "6: a\n",
            "7: to\n",
            "8: this\n",
            "9: my\n",
            "10: have\n",
            "11: for\n",
            "12: phone\n",
            "13: of\n",
            "14: case\n",
            "15: that\n",
            "16: on\n",
            "17: in\n",
            "18: do\n",
            "19: with\n",
            "20: but\n",
            "21: you\n",
            "22: not\n",
            "23: n't\n",
            "24: as\n",
            "25: great\n",
            "26: use\n",
            "27: so\n",
            "28: good\n",
            "29: very\n",
            "30: one\n",
            "31: work\n",
            "32: screen\n",
            "33: well\n",
            "34: like\n",
            "35: get\n",
            "36: charge\n",
            "37: they\n",
            "38: if\n",
            "39: product\n",
            "40: fit\n",
            "41: or\n",
            "42: just\n",
            "43: at\n",
            "44: all\n",
            "45: your\n",
            "46: would\n",
            "47: look\n",
            "48: love\n",
            "49: when\n",
            "50: from\n",
            "51: will\n",
            "52: can\n",
            "53: out\n",
            "54: make\n",
            "55: buy\n",
            "56: protector\n",
            "57: no\n",
            "58: time\n",
            "59: an\n",
            "60: up\n",
            "61: nice\n",
            "62: iphone\n",
            "63: battery\n",
            "64: really\n",
            "65: other\n",
            "66: than\n",
            "67: easy\n",
            "68: only\n",
            "69: go\n",
            "70: more\n",
            "71: off\n",
            "72: come\n",
            "73: there\n",
            "74: charger\n",
            "75: about\n",
            "76: also\n",
            "77: price\n",
            "78: back\n",
            "79: take\n",
            "80: need\n",
            "81: because\n",
            "82: feel\n",
            "83: quality\n",
            "84: review\n",
            "85: which\n",
            "86: cover\n",
            "87: what\n",
            "88: little\n",
            "89: much\n",
            "90: protect\n",
            "91: 2\n",
            "92: its\n",
            "93: cable\n",
            "94: these\n",
            "95: device\n",
            "96: too\n",
            "97: hold\n",
            "98: after\n",
            "99: drop\n",
            "100: any\n"
          ]
        }
      ]
    },
    {
      "cell_type": "code",
      "source": [
        "freqs_20=sorted(list(freq_words.values()))\n",
        "freqs_20[-1]\n"
      ],
      "metadata": {
        "colab": {
          "base_uri": "https://localhost:8080/"
        },
        "id": "uk1mdFPZgJoa",
        "outputId": "03964feb-d790-4acb-c875-77a49ebfb26b"
      },
      "execution_count": null,
      "outputs": [
        {
          "output_type": "execute_result",
          "data": {
            "text/plain": [
              "3056242"
            ]
          },
          "metadata": {},
          "execution_count": 9
        }
      ]
    },
    {
      "cell_type": "markdown",
      "source": [
        "<h4>Let's assume that 100000 is our threshold to consider a word as very frequent.</h4>"
      ],
      "metadata": {
        "id": "aTKPK3h4g57a"
      }
    },
    {
      "cell_type": "code",
      "source": [
        "for i in range(len(freqs_20)):\n",
        "  if freqs_20[i]<100000 and freqs_20[i+1]>=100000:\n",
        "    print(len(freqs_20)-i+1,\" words are too frequent and hence can be dropped.\")"
      ],
      "metadata": {
        "colab": {
          "base_uri": "https://localhost:8080/"
        },
        "id": "oabqzGYngKGJ",
        "outputId": "7a3e1bed-c666-4b88-fd16-f67a90a0558b"
      },
      "execution_count": null,
      "outputs": [
        {
          "output_type": "stream",
          "name": "stdout",
          "text": [
            "87  words are too frequent and hence can be dropped.\n"
          ]
        }
      ]
    },
    {
      "cell_type": "markdown",
      "source": [
        "<h4>Let's assume that 10 is our threshold to consider a word as very rare.</h4>"
      ],
      "metadata": {
        "id": "KL9bCvRghWj7"
      }
    },
    {
      "cell_type": "code",
      "source": [
        "for i in range(len(freqs_20)):\n",
        "  if freqs_20[i]<10 and freqs_20[i+1]>=10:\n",
        "    print(i+1,\" words are too rare and hence can be dropped.\")"
      ],
      "metadata": {
        "colab": {
          "base_uri": "https://localhost:8080/"
        },
        "id": "MSB-_7_ngKJx",
        "outputId": "c6e7d130-174f-4524-9212-2de0e316b4c0"
      },
      "execution_count": null,
      "outputs": [
        {
          "output_type": "stream",
          "name": "stdout",
          "text": [
            "131023  words are too rare and hence can be dropped.\n"
          ]
        }
      ]
    },
    {
      "cell_type": "markdown",
      "source": [
        "So, a total of 131110 words can be dropped."
      ],
      "metadata": {
        "id": "FbytOpv6ibYW"
      }
    },
    {
      "cell_type": "code",
      "source": [
        "#Finding the frequencies of the top 20 words\n",
        "freqs_20=sorted(list(freq_words.values()))\n",
        "freqs_20=freqs_20[::-1]\n",
        "freqs_20=freqs_20[:20]\n",
        "\n",
        "#Verifying Pareto Rule\n",
        "sum(freqs_20),len(words)*0.8"
      ],
      "metadata": {
        "colab": {
          "base_uri": "https://localhost:8080/"
        },
        "id": "qmjlEAJB2XdA",
        "outputId": "247de36a-8b13-4d8f-a7cc-7434b13cc775"
      },
      "execution_count": null,
      "outputs": [
        {
          "output_type": "execute_result",
          "data": {
            "text/plain": [
              "(22429232, 46736867.2)"
            ]
          },
          "metadata": {},
          "execution_count": 12
        }
      ]
    },
    {
      "cell_type": "markdown",
      "source": [
        "<h4>Since the top 20% words contribute to half of, i.e., around 40% percent of all the tokens, Pareto rule is not applicable here.</h4>"
      ],
      "metadata": {
        "id": "4qtULmFI5IR9"
      }
    },
    {
      "cell_type": "code",
      "execution_count": null,
      "metadata": {
        "id": "uxUHuvQ7LIbR"
      },
      "outputs": [],
      "source": []
    }
  ],
  "metadata": {
    "colab": {
      "provenance": []
    },
    "kernelspec": {
      "display_name": "Python 3",
      "name": "python3"
    },
    "language_info": {
      "name": "python"
    },
    "accelerator": "GPU"
  },
  "nbformat": 4,
  "nbformat_minor": 0
}