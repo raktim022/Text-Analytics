{
  "nbformat": 4,
  "nbformat_minor": 0,
  "metadata": {
    "colab": {
      "provenance": []
    },
    "kernelspec": {
      "name": "python3",
      "display_name": "Python 3"
    },
    "language_info": {
      "name": "python"
    }
  },
  "cells": [
    {
      "cell_type": "markdown",
      "source": [
        "<b>Raktim Dey</b>"
      ],
      "metadata": {
        "id": "1sRBRtdP3S-j"
      }
    },
    {
      "cell_type": "code",
      "execution_count": null,
      "metadata": {
        "colab": {
          "base_uri": "https://localhost:8080/"
        },
        "id": "wAyTfTcI0PVs",
        "outputId": "22d2b56c-b6aa-433b-fc06-9ddde9aa52ad"
      },
      "outputs": [
        {
          "output_type": "stream",
          "name": "stdout",
          "text": [
            "Mounted at /content/drive\n"
          ]
        }
      ],
      "source": [
        "from google.colab import drive\n",
        "drive.mount('/content/drive',force_remount=True)"
      ]
    },
    {
      "cell_type": "code",
      "source": [
        "FILE_PATH='/content/drive/MyDrive/Cell_Phones_and_Accessories_5.json.gz'"
      ],
      "metadata": {
        "id": "ZLpucOQB0Ran"
      },
      "execution_count": null,
      "outputs": []
    },
    {
      "cell_type": "code",
      "source": [
        "import gzip\n",
        "import json"
      ],
      "metadata": {
        "id": "fva6vnm_0RdE"
      },
      "execution_count": null,
      "outputs": []
    },
    {
      "cell_type": "code",
      "source": [
        "#Function to return unprocessed corpus for sentence segmentation  \n",
        "def unpreprocessed_corpus(filepath):\n",
        "  data=[]\n",
        "  with gzip.open(filepath, 'r') as f:\n",
        "    for name in f:\n",
        "      try:\n",
        "        text=str(json.loads(name.decode())[\"reviewText\"])\n",
        "        data.append(text)\n",
        "      except KeyError:\n",
        "        pass\n",
        "  return data"
      ],
      "metadata": {
        "id": "bqjf028w0Rgg"
      },
      "execution_count": null,
      "outputs": []
    },
    {
      "cell_type": "code",
      "source": [],
      "metadata": {
        "id": "Te1lacxs0dJF"
      },
      "execution_count": null,
      "outputs": []
    },
    {
      "cell_type": "code",
      "source": [
        "#Corpus of the given data\n",
        "raw_corpus=unpreprocessed_corpus(FILE_PATH)\n",
        "print(len(raw_corpus))"
      ],
      "metadata": {
        "id": "whho4t_ZdwXk",
        "colab": {
          "base_uri": "https://localhost:8080/"
        },
        "outputId": "9d92fa80-1b7e-44cb-902d-8ac02231b58c"
      },
      "execution_count": null,
      "outputs": [
        {
          "output_type": "stream",
          "name": "stdout",
          "text": [
            "1127672\n"
          ]
        }
      ]
    },
    {
      "cell_type": "code",
      "source": [
        "\"%$%\" in \" \".join(raw_corpus)"
      ],
      "metadata": {
        "colab": {
          "base_uri": "https://localhost:8080/"
        },
        "outputId": "120dc264-0bf0-45a9-97b0-04a26d748589",
        "id": "RgECVle50rjq"
      },
      "execution_count": null,
      "outputs": [
        {
          "output_type": "execute_result",
          "data": {
            "text/plain": [
              "False"
            ]
          },
          "metadata": {},
          "execution_count": 6
        }
      ]
    },
    {
      "cell_type": "code",
      "source": [
        "# %$% is not present in corpus, so we will use it as the separator.\n",
        "corpus=\"%$%\".join(raw_corpus)"
      ],
      "metadata": {
        "id": "cTYDHTq-0rjq"
      },
      "execution_count": null,
      "outputs": []
    },
    {
      "cell_type": "code",
      "source": [
        "with open(\"corpus.txt\",\"w\") as f:\n",
        "  f.write(corpus)\n",
        "f.close()"
      ],
      "metadata": {
        "id": "QSqc6TuF0rjs"
      },
      "execution_count": null,
      "outputs": []
    },
    {
      "cell_type": "code",
      "source": [
        "import re\n",
        "text=\" \".join(corpus.split(\"%&%\"))\n",
        "\n",
        "\n",
        "#Replacing multiple occurences of period in a sentence with a single period for more accurate sentence segmentation\n",
        "text_period=re.sub(r\"\\.*\\.\",\" . \",text)\n",
        "print(\"Number of sentences segmented by Period =\",len(text_period.split(\".\")))\n",
        "\n",
        "\n",
        "#Replacing multiple occurences of exclamation mark in a sentence with a single exclamation mark for more accurate sentence segmentation\n",
        "text_exclamation=re.sub(r\"\\!*\\!\",\" ! \",text)\n",
        "print(\"Number of sentences segmented by exclamation =\",len(text_exclamation.split(\"!\")))\n",
        "\n",
        "\n",
        "#Replacing multiple occurences of question mark in a sentence with a single question mark for more accurate sentence segmentation\n",
        "text_question=re.sub(\"\\?*\\?\",\" ? \",text)\n",
        "print(\"Number of sentences segmented by question mark =\",len(text_question.split(\"?\")))"
      ],
      "metadata": {
        "colab": {
          "base_uri": "https://localhost:8080/"
        },
        "outputId": "74dedb64-759a-4404-ff53-60faa0cc5569",
        "id": "7BJsfM7B0rjv"
      },
      "execution_count": null,
      "outputs": [
        {
          "output_type": "stream",
          "name": "stdout",
          "text": [
            "Number of sentences segmented by Period = 3702100\n",
            "Number of sentences segmented by exclamation = 336462\n",
            "Number of sentences segmented by question mark = 38637\n"
          ]
        }
      ]
    }
  ]
}